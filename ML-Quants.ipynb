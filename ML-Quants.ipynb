{
 "cells": [
  {
   "cell_type": "code",
   "execution_count": 1,
   "id": "cfa087c4",
   "metadata": {},
   "outputs": [],
   "source": [
    "import numpy as np\n",
    "import pandas as pd\n",
    "import seaborn as sns\n",
    "import matplotlib.pyplot as plt\n",
    "from time import strftime, gmtime"
   ]
  },
  {
   "cell_type": "code",
   "execution_count": 2,
   "id": "1ba44672",
   "metadata": {},
   "outputs": [],
   "source": [
    "from sklearn.metrics import mean_absolute_error,mean_squared_error,r2_score\n",
    "from sklearn.model_selection import train_test_split\n",
    "from sklearn.preprocessing import StandardScaler\n",
    "from sklearn import linear_model\n",
    "from sklearn.model_selection import GridSearchCV\n",
    "from sklearn import neighbors\n",
    "from sklearn import tree\n",
    "from sklearn.ensemble import RandomForestRegressor\n",
    "from sklearn.svm import LinearSVR\n",
    "from sklearn.svm import SVR\n",
    "from sklearn import neural_network"
   ]
  },
  {
   "cell_type": "code",
   "execution_count": 5,
   "id": "27f0c811",
   "metadata": {},
   "outputs": [],
   "source": [
    "import xgboost as xgb"
   ]
  },
  {
   "cell_type": "code",
   "execution_count": 7,
   "id": "3c961867",
   "metadata": {},
   "outputs": [],
   "source": [
    "from sagemaker import experiments\n",
    "from sagemaker.utils import unique_name_from_base"
   ]
  },
  {
   "cell_type": "code",
   "execution_count": null,
   "id": "af2b43a8",
   "metadata": {},
   "outputs": [],
   "source": [
    "#para la familia se necesitan pequeños datos y que sea fácil de usar"
   ]
  },
  {
   "cell_type": "code",
   "execution_count": null,
   "id": "29456350",
   "metadata": {},
   "outputs": [],
   "source": [
    "import boto3\n",
    "\n",
    "# Crear un cliente S3\n",
    "s3 = boto3.client('s3')\n",
    "\n",
    "# Definir el nombre del bucket y la ruta del archivo\n",
    "bucket_name = 'datalatet01740327929864'\n",
    "file_path = 'experiment_regression/cement_slump.csv'\n",
    "# Descargar el archivo desde S3\n",
    "with open('cement_slump.csv', 'wb') as f:\n",
    "    s3.download_fileobj(bucket_name, file_path, f)"
   ]
  },
  {
   "cell_type": "code",
   "execution_count": null,
   "id": "9d22e6fc",
   "metadata": {},
   "outputs": [],
   "source": [
    "run_name = \"randomforest-regression-\" + strftime(\"%Y-%m-%d-%H-%M-%S\", gmtime())"
   ]
  },
  {
   "cell_type": "code",
   "execution_count": null,
   "id": "3907e550",
   "metadata": {},
   "outputs": [],
   "source": [
    "experiment_name = unique_name_from_base(\"Experimento01\")"
   ]
  },
  {
   "cell_type": "code",
   "execution_count": null,
   "id": "24ab3e55",
   "metadata": {},
   "outputs": [],
   "source": [
    "df = pd.read_csv('cement_slump.csv')\n",
    "X = df.drop('Compressive Strength (28-day)(Mpa)',axis=1)\n",
    "y = df['Compressive Strength (28-day)(Mpa)']"
   ]
  },
  {
   "cell_type": "markdown",
   "id": "aaa1e248",
   "metadata": {},
   "source": [
    "# Linear Regression"
   ]
  },
  {
   "cell_type": "markdown",
   "id": "b7ab6b37",
   "metadata": {},
   "source": [
    "# Entrenamiento"
   ]
  },
  {
   "cell_type": "code",
   "execution_count": null,
   "id": "dcc192d9",
   "metadata": {},
   "outputs": [],
   "source": []
  },
  {
   "cell_type": "markdown",
   "id": "2edebb58",
   "metadata": {},
   "source": [
    "# Grid Search"
   ]
  },
  {
   "cell_type": "code",
   "execution_count": null,
   "id": "83d6e315",
   "metadata": {},
   "outputs": [],
   "source": []
  },
  {
   "cell_type": "markdown",
   "id": "4dbfb7fb",
   "metadata": {},
   "source": [
    "# Bayesian linear regression"
   ]
  },
  {
   "cell_type": "markdown",
   "id": "cd548acd",
   "metadata": {},
   "source": [
    "# Entrenamiento"
   ]
  },
  {
   "cell_type": "code",
   "execution_count": null,
   "id": "41edfae7",
   "metadata": {},
   "outputs": [],
   "source": []
  },
  {
   "cell_type": "markdown",
   "id": "0aa8ae87",
   "metadata": {},
   "source": [
    "# Grid Search"
   ]
  },
  {
   "cell_type": "code",
   "execution_count": null,
   "id": "a5a4f186",
   "metadata": {},
   "outputs": [],
   "source": []
  },
  {
   "cell_type": "markdown",
   "id": "0dcc0962",
   "metadata": {},
   "source": [
    "# K-Nearest Neighbors"
   ]
  },
  {
   "cell_type": "markdown",
   "id": "21740062",
   "metadata": {},
   "source": [
    "# Entrenamiento"
   ]
  },
  {
   "cell_type": "code",
   "execution_count": null,
   "id": "a99c66d1",
   "metadata": {},
   "outputs": [],
   "source": []
  },
  {
   "cell_type": "markdown",
   "id": "0efa3333",
   "metadata": {},
   "source": [
    "# Grid Search"
   ]
  },
  {
   "cell_type": "code",
   "execution_count": null,
   "id": "bb121a61",
   "metadata": {},
   "outputs": [],
   "source": []
  },
  {
   "cell_type": "markdown",
   "id": "27ff72d9",
   "metadata": {},
   "source": [
    "# Decision Tree"
   ]
  },
  {
   "cell_type": "markdown",
   "id": "956b42c8",
   "metadata": {},
   "source": [
    "# Entrenamiento"
   ]
  },
  {
   "cell_type": "code",
   "execution_count": null,
   "id": "762e55cd",
   "metadata": {},
   "outputs": [],
   "source": []
  },
  {
   "cell_type": "markdown",
   "id": "27a37d7b",
   "metadata": {},
   "source": [
    "# Grid Search"
   ]
  },
  {
   "cell_type": "code",
   "execution_count": null,
   "id": "07dfc5c2",
   "metadata": {},
   "outputs": [],
   "source": []
  },
  {
   "cell_type": "markdown",
   "id": "f900c9aa",
   "metadata": {},
   "source": [
    "# Random Forest"
   ]
  },
  {
   "cell_type": "code",
   "execution_count": null,
   "id": "b3c68e67",
   "metadata": {},
   "outputs": [],
   "source": []
  },
  {
   "cell_type": "markdown",
   "id": "cb126eea",
   "metadata": {},
   "source": [
    "# XGBoost"
   ]
  },
  {
   "cell_type": "code",
   "execution_count": null,
   "id": "fba800bc",
   "metadata": {},
   "outputs": [],
   "source": []
  },
  {
   "cell_type": "markdown",
   "id": "90e2c77f",
   "metadata": {},
   "source": [
    "# Linear Support Vector Machine"
   ]
  },
  {
   "cell_type": "code",
   "execution_count": null,
   "id": "940498b4",
   "metadata": {},
   "outputs": [],
   "source": []
  },
  {
   "cell_type": "markdown",
   "id": "0f4703c4",
   "metadata": {},
   "source": [
    "# Support Vector Machine"
   ]
  },
  {
   "cell_type": "code",
   "execution_count": null,
   "id": "c551562a",
   "metadata": {},
   "outputs": [],
   "source": []
  },
  {
   "cell_type": "markdown",
   "id": "84f53337",
   "metadata": {},
   "source": [
    "# Artificial Neural Network"
   ]
  },
  {
   "cell_type": "code",
   "execution_count": null,
   "id": "338b9c28",
   "metadata": {},
   "outputs": [],
   "source": [
    "run_name = \"ann-regression-\" + strftime(\"%Y-%m-%d-%H-%M-%S\", gmtime())\n",
    "with experiments.Run(experiment_name,run_name=run_name) as run :\n",
    "    #entrenamiento\n",
    "    ann_regression = neural_network.MLPRegressor(max_iter=5000,verbose=False)\n",
    "    ann_regression.fit(scaled_X_train, y_train)\n",
    "    print(ann_regression.get_params())\n",
    "    \n",
    "    #verificacion con datos de train\n",
    "    ann_regression_y_pred=ann_regression.predict(scaled_X_train)\n",
    "    ann_mae=mean_absolute_error(y_train,ann_regression_y_pred)\n",
    "    ann_mse=np.sqrt(mean_squared_error(y_train,ann_regression_y_pred))\n",
    "    ann_r2=r2_score(y_train,ann_regression_y_pred)\n",
    "    \n",
    "    run.log_metric(name=\"train:mae\",value=ann_mae)\n",
    "    run.log_metric(name=\"train:mse\",value=ann_mse) \n",
    "    run.log_metric(name=\"train:r2\",value=ann_r2) \n",
    "    #verificacion con datos de test\n",
    "    ann_regression_y_pred=ann_regression.predict(scaled_X_test)\n",
    "    ann_mae=mean_absolute_error(y_test,ann_regression_y_pred)\n",
    "    ann_mse=np.sqrt(mean_squared_error(y_test,ann_regression_y_pred))\n",
    "    ann_r2=r2_score(y_test,ann_regression_y_pred)\n",
    "    \n",
    "    run.log_metric(name=\"test:mae\",value=ann_mae)\n",
    "    run.log_metric(name=\"test:mse\",value=ann_mse)\n",
    "    run.log_metric(name=\"test:r2\",value=ann_r2)"
   ]
  }
 ],
 "metadata": {
  "kernelspec": {
   "display_name": "Python 3 (ipykernel)",
   "language": "python",
   "name": "python3"
  },
  "language_info": {
   "codemirror_mode": {
    "name": "ipython",
    "version": 3
   },
   "file_extension": ".py",
   "mimetype": "text/x-python",
   "name": "python",
   "nbconvert_exporter": "python",
   "pygments_lexer": "ipython3",
   "version": "3.9.16"
  }
 },
 "nbformat": 4,
 "nbformat_minor": 5
}
