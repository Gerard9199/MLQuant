{
 "cells": [
  {
   "cell_type": "code",
   "execution_count": 1,
   "id": "7a0e5578",
   "metadata": {},
   "outputs": [],
   "source": [
    "import numpy as np\n",
    "import pandas as pd\n",
    "import seaborn as sns\n",
    "import matplotlib.pyplot as plt\n",
    "from time import strftime, gmtime"
   ]
  },
  {
   "cell_type": "code",
   "execution_count": 2,
   "id": "d39ee094",
   "metadata": {},
   "outputs": [],
   "source": [
    "from sklearn.metrics import mean_absolute_error,mean_squared_error,r2_score\n",
    "from sklearn.model_selection import train_test_split\n",
    "from sklearn.preprocessing import StandardScaler\n",
    "from sklearn import linear_model\n",
    "from sklearn.model_selection import GridSearchCV\n",
    "from sklearn import neighbors\n",
    "from sklearn import tree\n",
    "from sklearn.ensemble import RandomForestRegressor\n",
    "from sklearn.svm import LinearSVR\n",
    "from sklearn.svm import SVR\n",
    "from sklearn import neural_network\n",
    "from sklearn.multioutput import MultiOutputRegressor"
   ]
  },
  {
   "cell_type": "code",
   "execution_count": 5,
   "id": "30704a84",
   "metadata": {},
   "outputs": [],
   "source": [
    "import xgboost as xgb"
   ]
  },
  {
   "cell_type": "code",
   "execution_count": 7,
   "id": "81b45ad0",
   "metadata": {},
   "outputs": [],
   "source": [
    "from sagemaker import experiments\n",
    "from sagemaker.utils import unique_name_from_base"
   ]
  },
  {
   "cell_type": "code",
   "execution_count": null,
   "id": "8ffe4fd5",
   "metadata": {},
   "outputs": [],
   "source": [
    "#para la familia se necesitan pequeños datos y que sea fácil de usar"
   ]
  },
  {
   "cell_type": "code",
   "execution_count": null,
   "id": "1597bc7b",
   "metadata": {},
   "outputs": [],
   "source": [
    "import boto3\n",
    "\n",
    "# Crear un cliente S3\n",
    "s3 = boto3.client('s3')\n",
    "\n",
    "# Definir el nombre del bucket y la ruta del archivo\n",
    "bucket_name = 'datalatet01740327929864'\n",
    "file_path = 'experiment_regression/cement_slump.csv'\n",
    "# Descargar el archivo desde S3\n",
    "with open('cement_slump.csv', 'wb') as f:\n",
    "    s3.download_fileobj(bucket_name, file_path, f)"
   ]
  },
  {
   "cell_type": "code",
   "execution_count": null,
   "id": "2a4c00e7",
   "metadata": {},
   "outputs": [],
   "source": [
    "run_name = \"randomforest-regression-\" + strftime(\"%Y-%m-%d-%H-%M-%S\", gmtime())"
   ]
  },
  {
   "cell_type": "code",
   "execution_count": null,
   "id": "1bab9654",
   "metadata": {},
   "outputs": [],
   "source": [
    "experiment_name = unique_name_from_base(\"Experimento01\")"
   ]
  },
  {
   "cell_type": "code",
   "execution_count": null,
   "id": "3631408f",
   "metadata": {},
   "outputs": [],
   "source": [
    "df = pd.read_csv('cement_slump.csv')\n",
    "X = df.drop('Compressive Strength (28-day)(Mpa)',axis=1)\n",
    "y = df['Compressive Strength (28-day)(Mpa)']"
   ]
  },
  {
   "cell_type": "code",
   "execution_count": null,
   "id": "96f29e9d",
   "metadata": {},
   "outputs": [],
   "source": [
    "X_train, X_test, y_train, y_test = train_test_split(X, y, test_size=0.3, random_state=101)"
   ]
  },
  {
   "cell_type": "code",
   "execution_count": null,
   "id": "fec21908",
   "metadata": {},
   "outputs": [],
   "source": [
    "scaler = StandardScaler()"
   ]
  },
  {
   "cell_type": "code",
   "execution_count": null,
   "id": "a70b9677",
   "metadata": {},
   "outputs": [],
   "source": [
    "scaled_X_train = scaler.fit_transform(X_train)\n",
    "scaled_X_test = scaler.transform(X_test)"
   ]
  },
  {
   "cell_type": "markdown",
   "id": "9f51a661",
   "metadata": {},
   "source": [
    "# Linear Regression"
   ]
  },
  {
   "cell_type": "markdown",
   "id": "345bc392",
   "metadata": {},
   "source": [
    "# Entrenamiento"
   ]
  },
  {
   "cell_type": "code",
   "execution_count": null,
   "id": "e8788d92",
   "metadata": {},
   "outputs": [],
   "source": [
    "run_name = \"linear-regression-\" + strftime(\"%Y-%m-%d-%H-%M-%S\", gmtime())\n",
    "with experiments.Run(experiment_name,run_name=run_name) as run :\n",
    "    #entrenamiento\n",
    "    linear_regr = linear_model.LinearRegression()\n",
    "    linear_regr.fit(scaled_X_train,y_train)\n",
    "    print(linear_regr.coef_.tolist())\n",
    "    #verificacion con datos de train\n",
    "    llr_y_predict=linear_regr.predict(scaled_X_train)\n",
    "    llr_mae=mean_absolute_error(y_train,llr_y_predict)\n",
    "    llr_mse=np.sqrt(mean_squared_error(y_train,llr_y_predict))\n",
    "    llr_r2= r2_score(y_train,llr_y_predict)\n",
    "    run.log_metric(name=\"train:mae\",value=llr_mae)\n",
    "    run.log_metric(name=\"train:mse\",value=llr_mse) \n",
    "    run.log_metric(name=\"train:r2_score\",value=llr_r2) \n",
    "    #verificacion con datos de test\n",
    "    llr_y_predict=linear_regr.predict(scaled_X_test)\n",
    "    llr_mae=mean_absolute_error(y_test,llr_y_predict)\n",
    "    llr_mse=np.sqrt(mean_squared_error(y_test,llr_y_predict))\n",
    "    llr_r2= r2_score(y_test,llr_y_predict)\n",
    "    run.log_metric(name=\"test:mae\",value=llr_mae)\n",
    "    run.log_metric(name=\"test:mse\",value=llr_mse)\n",
    "    run.log_metric(name=\"train:r2_score\",value=llr_r2) "
   ]
  },
  {
   "cell_type": "markdown",
   "id": "d6cbac8e",
   "metadata": {},
   "source": [
    "# Grid Search"
   ]
  },
  {
   "cell_type": "code",
   "execution_count": null,
   "id": "5ed57621",
   "metadata": {},
   "outputs": [],
   "source": [
    "run_name = \"grid-linear-regression-\" + strftime(\"%Y-%m-%d-%H-%M-%S\", gmtime())\n",
    "with experiments.Run(experiment_name,run_name=run_name) as run :\n",
    "    linear_param_grid= {\n",
    "    'alpha': [0.0001, 0.001, 0.01, 0.05, 0.1, 0.2, 0.3, 0.4, 0.5, 0.6, 0.7, 0.8, 0.9, 1.0, 2.0, 3.0, 4.0, 5.0, 6.0, 7.0, 8.0, 9.0, \n",
    "                10.0, 20, 50, 100, 500, 1000 ] \n",
    "    }\n",
    "    ridge = Ridge()\n",
    "    folds = 5\n",
    "    llr_grid = GridSearchCV(estimator=ridge,param_grid=linear_param_grid,scoring='neg_mean_absolute_error',cv=folds,return_train_score=True,verbose=1)\n",
    "    llr_grid.fit(X_train,y_train)\n",
    "    print(llr_grid.best_params_)\n",
    "    run.log_parameter(name=\"alpha\",value=llr_grid.best_params_['alpha'])\n",
    "    #evaluar con datos de train\n",
    "    llr_grid_preds = llr_grid.predict(scaled_X_train)\n",
    "    llr_mae=mean_absolute_error(y_train,llr_grid_preds)\n",
    "    llr_mse=np.sqrt(mean_squared_error(y_train,llr_grid_preds))\n",
    "    llr_r2= r2_score(y_train,llr_grid_preds)\n",
    "    \n",
    "    run.log_metric(name=\"train:mae\",value=llr_mae)\n",
    "    run.log_metric(name=\"train:mse\",value=llr_mse) \n",
    "    run.log_metric(name=\"train:r2_score\",value=llr_r2) \n",
    "\n",
    "    #verificacion con datos de test\n",
    "    llr_grid_preds=llr_grid.predict(scaled_X_test)\n",
    "    llr_mae=mean_absolute_error(y_test,llr_grid_preds)\n",
    "    llr_mse=np.sqrt(mean_squared_error(y_test,llr_grid_preds))\n",
    "    llr_r2= r2_score(y_test,llr_grid_preds)\n",
    "    \n",
    "    run.log_metric(name=\"test:mae\",value=llr_mae)\n",
    "    run.log_metric(name=\"test:mse\",value=llr_mse)\n",
    "    run.log_metric(name=\"train:r2_score\",value=llr_r2) "
   ]
  },
  {
   "cell_type": "markdown",
   "id": "ed8c249f",
   "metadata": {},
   "source": [
    "# Bayesian linear regression"
   ]
  },
  {
   "cell_type": "markdown",
   "id": "c76c0d31",
   "metadata": {},
   "source": [
    "# Entrenamiento"
   ]
  },
  {
   "cell_type": "code",
   "execution_count": null,
   "id": "e0923f40",
   "metadata": {},
   "outputs": [],
   "source": [
    "run_name = \"bayesian-linear-regression-\" + strftime(\"%Y-%m-%d-%H-%M-%S\", gmtime())\n",
    "with experiments.Run(experiment_name,run_name=run_name) as run :\n",
    "    #crea modelo\n",
    "    bayesian_reg = linear_model.BayesianRidge(verbose=True)\n",
    "    bayesian_params=bayesian_reg.get_params()\n",
    "    run.log_parameter('alpha_1',bayesian_params['alpha_1'] )\n",
    "    run.log_parameter('alpha_2',bayesian_params['alpha_2'] )   \n",
    "    run.log_parameter('lambda_1',bayesian_params['lambda_1'] )\n",
    "    run.log_parameter('lambda_2',bayesian_params['lambda_2'] ) \n",
    "    run.log_parameter('n_iter',bayesian_params['n_iter'] )    \n",
    "    #entrenar modelo\n",
    "    bayesian_reg.fit(scaled_X_train,y_train)   \n",
    "    #verificar entrenamiento con datos de train\n",
    "    bayesian_reg_y_predict=bayesian_reg.predict(scaled_X_train)\n",
    "    bayeasian_mae=mean_absolute_error(y_train,bayesian_reg_y_predict)\n",
    "    bayeasian_mse=np.sqrt(mean_squared_error(y_train,bayesian_reg_y_predict))\n",
    "    bayeasian_r2=r2_score(y_train,bayesian_reg_y_predict)\n",
    "    \n",
    "    run.log_metric(name=\"train:mae\",value=bayeasian_mae)\n",
    "    run.log_metric(name=\"train:mse\",value=bayeasian_mse)   \n",
    "    run.log_metric(name=\"train:r2\",value=bayeasian_r2)\n",
    "    #verificar entrenamiento con datos de test\n",
    "    bayesian_reg_y_predict=bayesian_reg.predict(scaled_X_test)\n",
    "    bayeasian_mae=mean_absolute_error(y_test,bayesian_reg_y_predict)\n",
    "    bayeasian_mse=np.sqrt(mean_squared_error(y_test,bayesian_reg_y_predict))\n",
    "    bayeasian_r2=r2_score(y_test,bayesian_reg_y_predict)\n",
    "    \n",
    "    run.log_metric(name=\"test:mae\",value=bayeasian_mae)\n",
    "    run.log_metric(name=\"test:mse\",value=bayeasian_mse)\n",
    "    run.log_metric(name=\"test:r2\",value=bayeasian_r2)"
   ]
  },
  {
   "cell_type": "markdown",
   "id": "01135b78",
   "metadata": {},
   "source": [
    "# Grid Search"
   ]
  },
  {
   "cell_type": "code",
   "execution_count": null,
   "id": "056c67db",
   "metadata": {},
   "outputs": [],
   "source": [
    "run_name = \"grid-bayesian-linear-regression-\" + strftime(\"%Y-%m-%d-%H-%M-%S\", gmtime())\n",
    "with experiments.Run(experiment_name,run_name=run_name) as run :\n",
    "    bayesian_reg_param_grid= {\n",
    "    \"n_iter\" : [1,10,50,150,300,600],\n",
    "    \"alpha_1\" : [1e-3,1e-6,1e-9],\n",
    "    \"alpha_2\" : [1e-3,1e-6,1e-9],\n",
    "    \"lambda_1\" : [1e-3,1e-6,1e-9],\n",
    "    \"lambda_2\" : [1e-3,1e-6,1e-9],\n",
    "    \"normalize\" : [False,True]\n",
    "    }\n",
    "    bayesian_reg = linear_model.BayesianRidge()\n",
    "    bayesian_grid = GridSearchCV(bayesian_reg,param_grid=bayesian_reg_param_grid)\n",
    "    bayesian_grid.fit(scaled_X_train,y_train)\n",
    "    print(bayesian_grid.best_params_)\n",
    "    run.log_parameter(name=\"alpha_1\",value=bayesian_grid.best_params_['alpha_1'])   \n",
    "    run.log_parameter(name=\"alpha_2\",value=bayesian_grid.best_params_['alpha_2'])   \n",
    "    run.log_parameter(name=\"lambda_1\",value=bayesian_grid.best_params_['lambda_1'])     \n",
    "    run.log_parameter(name=\"lambda_2\",value=bayesian_grid.best_params_['lambda_2'])        \n",
    "    run.log_parameter(name=\"n_iter\",value=bayesian_grid.best_params_['n_iter'])     \n",
    "\n",
    "    #evaluar con datos de train\n",
    "    bayesian_grid_preds = bayesian_grid.predict(scaled_X_train)\n",
    "    bayeasian_mae=mean_absolute_error(y_train,bayesian_grid_preds)\n",
    "    bayeasian_mse=np.sqrt(mean_squared_error(y_train,bayesian_grid_preds))\n",
    "    bayeasian_r2=r2_score(y_train,bayesian_grid_preds)\n",
    "    \n",
    "    run.log_metric(name=\"train:mae\",value=bayeasian_mae)\n",
    "    run.log_metric(name=\"train:mse\",value=bayeasian_mse)\n",
    "    run.log_metric(name=\"train:r2\",value=bayeasian_r2)\n",
    "    #evaluar con datos de test\n",
    "    bayesian_grid_preds = bayesian_grid.predict(scaled_X_test)\n",
    "    bayeasian_mae=mean_absolute_error(y_test,bayesian_grid_preds)\n",
    "    bayeasian_mse=np.sqrt(mean_squared_error(y_test,bayesian_grid_preds))\n",
    "    bayeasian_mae=r2_score(y_test,bayesian_grid_preds)\n",
    "    \n",
    "    run.log_metric(name=\"test:mae\",value=bayeasian_mae)\n",
    "    run.log_metric(name=\"test:mse\",value=bayeasian_mse)\n",
    "    run.log_metric(name=\"test:r2\",value=bayeasian_r2)"
   ]
  },
  {
   "cell_type": "markdown",
   "id": "8c159824",
   "metadata": {},
   "source": [
    "# K-Nearest Neighbors"
   ]
  },
  {
   "cell_type": "markdown",
   "id": "171a639d",
   "metadata": {},
   "source": [
    "# Entrenamiento"
   ]
  },
  {
   "cell_type": "code",
   "execution_count": null,
   "id": "761357a0",
   "metadata": {},
   "outputs": [],
   "source": [
    "run_name = \"knn-regression-\" + strftime(\"%Y-%m-%d-%H-%M-%S\", gmtime())\n",
    "with experiments.Run(experiment_name,run_name=run_name) as run :\n",
    "    #entrenamiento\n",
    "    knn_regression = neighbors.KNeighborsRegressor()\n",
    "    knn_regression.fit(scaled_X_train, y_train)\n",
    "    print(knn_regression.get_params())\n",
    "    #verificacion con datos de train\n",
    "    knn_y_predict=knn_regression.predict(scaled_X_train)\n",
    "    knn_mae=mean_absolute_error(y_train,knn_y_predict)\n",
    "    knn_mse=np.sqrt(mean_squared_error(y_train,knn_y_predict))\n",
    "    knn_r2=r2_score(y_train,knn_y_predict)\n",
    "    \n",
    "    run.log_metric(name=\"train:mae\",value=llr_mae)\n",
    "    run.log_metric(name=\"train:mse\",value=llr_mse)\n",
    "    run.log_metric(name=\"train:r2\",value=llr_r2)\n",
    "    #verificacion con datos de test\n",
    "    knn_y_predict=knn_regression.predict(scaled_X_test)\n",
    "    knn_mae=mean_absolute_error(y_test,knn_y_predict)\n",
    "    knn_mse=np.sqrt(mean_squared_error(y_test,knn_y_predict))\n",
    "    knn_r2=r2_score(y_test,knn_y_predict)\n",
    "    \n",
    "    run.log_metric(name=\"test:mae\",value=llr_mae)\n",
    "    run.log_metric(name=\"test:mse\",value=llr_mse)\n",
    "    run.log_metric(name=\"test:r2\",value=llr_r2)"
   ]
  },
  {
   "cell_type": "markdown",
   "id": "a2a4a5d3",
   "metadata": {},
   "source": [
    "# Grid Search"
   ]
  },
  {
   "cell_type": "code",
   "execution_count": null,
   "id": "976e21c5",
   "metadata": {},
   "outputs": [],
   "source": [
    "run_name = \"grid-knn-regression-\" + strftime(\"%Y-%m-%d-%H-%M-%S\", gmtime())\n",
    "with experiments.Run(experiment_name,run_name=run_name) as run :\n",
    "    knn_reg_param_grid= {\n",
    "    \"n_neighbors\" : [1,2,3,5,7,10,25,50],\n",
    "    \"algorithm\" : [\"auto\",\"ball_tree\",\"kd_tree\",\"brute\"],\n",
    "    \"metric\": ['euclidean','manhattan','l1','l2']\n",
    "    }\n",
    "\n",
    "    knn_grid = GridSearchCV(estimator=neighbors.KNeighborsRegressor(),param_grid=knn_reg_param_grid)\n",
    "    knn_grid.fit(scaled_X_train,y_train)\n",
    "    print(knn_grid.best_params_)\n",
    "    run.log_parameter(name=\"n_neighbors\",value=knn_grid.best_params_['n_neighbors'])\n",
    "    run.log_parameter(name=\"metric\",value=knn_grid.best_params_['metric'])\n",
    "    run.log_parameter(name=\"algorithm\",value=knn_grid.best_params_['algorithm'])     \n",
    "\n",
    "    #evaluar con datos de train\n",
    "    knn_grid_preds = knn_grid.predict(scaled_X_train)\n",
    "    knn_mae=mean_absolute_error(y_train,knn_grid_preds)\n",
    "    knn_mse=np.sqrt(mean_squared_error(y_train,knn_grid_preds))\n",
    "    knn_r2=r2_score(y_train,knn_grid_preds)\n",
    "    \n",
    "    run.log_metric(name=\"train:mae\",value=knn_mae)\n",
    "    run.log_metric(name=\"train:mse\",value=knn_mse)\n",
    "    run.log_metric(name=\"train:r2\",value=knn_r2)\n",
    "    #evaluar con datos de test\n",
    "    knn_grid_preds = knn_grid.predict(scaled_X_test)\n",
    "    knn_mse=mean_absolute_error(y_test,knn_grid_preds)\n",
    "    bayeasian_mse=np.sqrt(mean_squared_error(y_test,knn_grid_preds))\n",
    "    knn_r2=r2_score(y_test,knn_grid_preds)\n",
    "    \n",
    "    run.log_metric(name=\"test:mae\",value=knn_mae)\n",
    "    run.log_metric(name=\"test:mse\",value=knn_mse)\n",
    "    run.log_metric(name=\"test:r2\",value=knn_r2)"
   ]
  },
  {
   "cell_type": "markdown",
   "id": "08fb54dd",
   "metadata": {},
   "source": [
    "# Decision Tree"
   ]
  },
  {
   "cell_type": "markdown",
   "id": "e2ae9177",
   "metadata": {},
   "source": [
    "# Entrenamiento"
   ]
  },
  {
   "cell_type": "code",
   "execution_count": null,
   "id": "418cf451",
   "metadata": {},
   "outputs": [],
   "source": [
    "run_name = \"tree-regression-\" + strftime(\"%Y-%m-%d-%H-%M-%S\", gmtime())\n",
    "with experiments.Run(experiment_name,run_name=run_name) as run :\n",
    "    #entrenamiento\n",
    "    decision_tree_reg = tree.DecisionTreeRegressor()\n",
    "    decision_tree_reg.fit(scaled_X_train, y_train)\n",
    "    print(decision_tree_reg.get_params())\n",
    "    #verificacion con datos de train\n",
    "    decision_tree_reg_y_pred=decision_tree_reg.predict(scaled_X_train)\n",
    "    tree_mae=mean_absolute_error(y_train,decision_tree_reg_y_pred)\n",
    "    tree_mse=np.sqrt(mean_squared_error(y_train,decision_tree_reg_y_pred))\n",
    "    tree_r2=r2_score(y_train,decision_tree_reg_y_pred)\n",
    "    \n",
    "    run.log_metric(name=\"train:mae\",value=tree_mae)\n",
    "    run.log_metric(name=\"train:mse\",value=tree_mse) \n",
    "    run.log_metric(name=\"train:r2\",value=tree_r2)\n",
    "    #verificacion con datos de test\n",
    "    decision_tree_reg_y_pred=decision_tree_reg.predict(scaled_X_test)\n",
    "    tree_mae=mean_absolute_error(y_test,decision_tree_reg_y_pred)\n",
    "    tree_mse=np.sqrt(mean_squared_error(y_test,decision_tree_reg_y_pred))\n",
    "    tree_r2=r2_score(y_test,decision_tree_reg_y_pred)\n",
    "    \n",
    "    run.log_metric(name=\"test:mae\",value=tree_mae)\n",
    "    run.log_metric(name=\"test:mse\",value=tree_mse)\n",
    "    run.log_metric(name=\"test:r2\",value=tree_r2)"
   ]
  },
  {
   "cell_type": "markdown",
   "id": "90f91666",
   "metadata": {},
   "source": [
    "# Grid Search"
   ]
  },
  {
   "cell_type": "code",
   "execution_count": null,
   "id": "b25e6819",
   "metadata": {},
   "outputs": [],
   "source": [
    "run_name = \"grid-tree-regression-\" + strftime(\"%Y-%m-%d-%H-%M-%S\", gmtime())\n",
    "with experiments.Run(experiment_name,run_name=run_name) as run :\n",
    "    decision_tree_reg_param_grid= {\n",
    "    \"max_features\" : [ \"auto\", \"sqrt\", \"log2\"],\n",
    "    \"criterion\" : [\"mse\", \"friedman_mse\"],\n",
    "    }\n",
    "\n",
    "    decision_tree_grid = GridSearchCV(estimator=tree.DecisionTreeRegressor(),param_grid=decision_tree_reg_param_grid)\n",
    "    decision_tree_grid.fit(scaled_X_train,y_train)\n",
    "    print(decision_tree_grid.best_params_)\n",
    "    run.log_parameter(name=\"max_features\",value=decision_tree_grid.best_params_['max_features'])\n",
    "    run.log_parameter(name=\"criterion\",value=decision_tree_grid.best_params_['criterion'])\n",
    "\n",
    "    #evaluar con datos de train\n",
    "    tree_grid_preds = decision_tree_grid.predict(scaled_X_train)\n",
    "    tree_mae=mean_absolute_error(y_train,tree_grid_preds)\n",
    "    tree_mse=np.sqrt(mean_squared_error(y_train,tree_grid_preds))\n",
    "    tree_r2=r2_score(y_train,tree_grid_preds)\n",
    "    \n",
    "    run.log_metric(name=\"train:mae\",value=tree_mae)\n",
    "    run.log_metric(name=\"train:mse\",value=tree_mse)\n",
    "    run.log_metric(name=\"train:r2\",value=tree_r2)\n",
    "    #evaluar con datos de test\n",
    "    tree_grid_preds = decision_tree_grid.predict(scaled_X_test)\n",
    "    tree_mae=mean_absolute_error(y_test,tree_grid_preds)\n",
    "    tree_mse=np.sqrt(mean_squared_error(y_test,tree_grid_preds))\n",
    "    tree_r2=r2_score(y_test,tree_grid_preds)\n",
    "    \n",
    "    run.log_metric(name=\"test:mae\",value=tree_mae)\n",
    "    run.log_metric(name=\"test:mse\",value=tree_mse)\n",
    "    run.log_metric(name=\"test:r2\",value=tree_r2)"
   ]
  },
  {
   "cell_type": "markdown",
   "id": "148e4e87",
   "metadata": {},
   "source": [
    "# Random Forest"
   ]
  },
  {
   "cell_type": "markdown",
   "id": "e44a2c49",
   "metadata": {},
   "source": [
    "# Entrenamiento"
   ]
  },
  {
   "cell_type": "code",
   "execution_count": null,
   "id": "204e22d5",
   "metadata": {},
   "outputs": [],
   "source": [
    "run_name = \"randomforest-regression-\" + strftime(\"%Y-%m-%d-%H-%M-%S\", gmtime())\n",
    "with experiments.Run(experiment_name,run_name=run_name) as run :\n",
    "    #entrenamiento\n",
    "    rforest_regression = RandomForestRegressor()\n",
    "    rforest_regression.fit(scaled_X_train, y_train)\n",
    "    print(rforest_regression.get_params())\n",
    "    #verificacion con datos de train\n",
    "    rforest_regression_y_pred=rforest_regression.predict(scaled_X_train)\n",
    "    rforest_mae=mean_absolute_error(y_train,rforest_regression_y_pred)\n",
    "    rforest_mse=np.sqrt(mean_squared_error(y_train,rforest_regression_y_pred))\n",
    "    rforest_r2=r2_score(y_train,rforest_regression_y_pred)\n",
    "    \n",
    "    run.log_metric(name=\"train:mae\",value=rforest_mae)\n",
    "    run.log_metric(name=\"train:mse\",value=rforest_mse) \n",
    "    run.log_metric(name=\"train:r2\",value=rforest_r2) \n",
    "    #verificacion con datos de test\n",
    "    rforest_regression_y_pred=rforest_regression.predict(scaled_X_test)\n",
    "    rforest_mae=mean_absolute_error(y_test,rforest_regression_y_pred)\n",
    "    rforest_mse=np.sqrt(mean_squared_error(y_test,rforest_regression_y_pred))\n",
    "    rforest_r2=r2_score(y_test,rforest_regression_y_pred)\n",
    "    \n",
    "    run.log_metric(name=\"test:mae\",value=rforest_mae)\n",
    "    run.log_metric(name=\"test:mse\",value=rforest_mse)\n",
    "    run.log_metric(name=\"test:r2\",value=rforest_r2)"
   ]
  },
  {
   "cell_type": "markdown",
   "id": "636f1f7b",
   "metadata": {},
   "source": [
    "# Grid Search"
   ]
  },
  {
   "cell_type": "code",
   "execution_count": null,
   "id": "47828c8d",
   "metadata": {},
   "outputs": [],
   "source": [
    "run_name = \"grid-randomforest-regression-\" + strftime(\"%Y-%m-%d-%H-%M-%S\", gmtime())\n",
    "with experiments.Run(experiment_name,run_name=run_name) as run :\n",
    "    rforest_param_grid= {\n",
    "    'n_estimators': [200, 500],\n",
    "    'max_features': ['auto', 'sqrt', 'log2'],\n",
    "    'max_depth' : [4,5,6,7,8],\n",
    "    'criterion' :['gini', 'entropy']\n",
    "    }\n",
    "\n",
    "    rforest_grid = GridSearchCV(estimator=RandomForestRegressor(), param_grid=rforest_param_grid, cv= 5)\n",
    "    rforest_grid.fit(scaled_X_train,y_train)\n",
    "    print(rforest_grid.best_params_)\n",
    "    run.log_parameter(name=\"n_estimators\",value=rforest_grid.best_params_['n_estimators'])\n",
    "    run.log_parameter(name=\"max_features\",value=rforest_grid.best_params_['max_features'])\n",
    "    run.log_parameter(name=\"max_depth\",value=rforest_grid.best_params_['max_depth'])\n",
    "    run.log_parameter(name=\"criterion\",value=rforest_grid.best_params_['criterion'])\n",
    "    \n",
    "    #evaluar con datos de train\n",
    "    rforest_regression_grid_pred=rforest_grid.predict(scaled_X_train)\n",
    "    rforest_mae=mean_absolute_error(y_train,rforest_regression_grid_pred)\n",
    "    rforest_mse=np.sqrt(mean_squared_error(y_train,rforest_regression_grid_pred))\n",
    "    rforest_r2=r2_score(y_train,rforest_regression_grid_pred)\n",
    "    \n",
    "    run.log_metric(name=\"train:mae\",value=rforest_mae)\n",
    "    run.log_metric(name=\"train:mse\",value=rforest_mse)\n",
    "    run.log_metric(name=\"train:r2\",value=rforest_r2)\n",
    "    #verificacion con datos de test\n",
    "    rforest_regression_grid_pred=rforest_grid.predict(scaled_X_test)\n",
    "    rforest_mae=mean_absolute_error(y_test,rforest_regression_grid_pred)\n",
    "    rforest_mse=np.sqrt(mean_squared_error(y_test,rforest_regression_grid_pred))\n",
    "    rforest_r2=r2_score(y_test,rforest_regression_grid_pred)\n",
    "    \n",
    "    run.log_metric(name=\"test:mae\",value=rforest_mae)\n",
    "    run.log_metric(name=\"test:mse\",value=rforest_mse)\n",
    "    run.log_metric(name=\"test:r2\",value=rforest_r2)"
   ]
  },
  {
   "cell_type": "markdown",
   "id": "88d76a92",
   "metadata": {},
   "source": [
    "# XGBoost"
   ]
  },
  {
   "cell_type": "markdown",
   "id": "e91e19a9",
   "metadata": {},
   "source": [
    "# Entrenamiento"
   ]
  },
  {
   "cell_type": "code",
   "execution_count": null,
   "id": "4e829008",
   "metadata": {},
   "outputs": [],
   "source": [
    "run_name = \"xgboost-regression-\" + strftime(\"%Y-%m-%d-%H-%M-%S\", gmtime())\n",
    "with experiments.Run(experiment_name,run_name=run_name) as run :\n",
    "    #entrenamiento\n",
    "    xgb_regression = xgb.XGBRegressor()\n",
    "    xgb_regression.fit(scaled_X_train, y_train)\n",
    "    print(xgb_regression.get_params())\n",
    "    #verificacion con datos de train\n",
    "    xgb_regression_y_pred=xgb_regression.predict(scaled_X_train)\n",
    "    xgb_mae=mean_absolute_error(y_train,xgb_regression_y_pred)\n",
    "    xgb_mse=np.sqrt(mean_squared_error(y_train,xgb_regression_y_pred))\n",
    "    xgb_r2=r2_score(y_train,xgb_regression_y_pred)\n",
    "    \n",
    "    run.log_metric(name=\"train:mae\",value=xgb_mae)\n",
    "    run.log_metric(name=\"train:mse\",value=xgb_mse)\n",
    "    run.log_metric(name=\"train:r2\",value=xgb_r2)\n",
    "    #verificacion con datos de test\n",
    "    xgb_regression_y_pred=xgb_regression.predict(scaled_X_test)\n",
    "    xgb_mae=mean_absolute_error(y_test,xgb_regression_y_pred)\n",
    "    xgb_mse=np.sqrt(mean_squared_error(y_test,rforest_regression_y_pred))\n",
    "    xgb_r2=r2_score(y_test,xgb_regression_y_pred)\n",
    "    \n",
    "    run.log_metric(name=\"test:mae\",value=xgb_mae)\n",
    "    run.log_metric(name=\"test:mse\",value=xgb_mse)\n",
    "    run.log_metric(name=\"test:r2\",value=xgb_r2)"
   ]
  },
  {
   "cell_type": "markdown",
   "id": "5ce3e87e",
   "metadata": {},
   "source": [
    "# Grid Search"
   ]
  },
  {
   "cell_type": "code",
   "execution_count": null,
   "id": "eab428cf",
   "metadata": {},
   "outputs": [],
   "source": [
    "from sklearn.model_selection import GridSearchCV\n",
    "import xgboost as xgb\n",
    "    xgb_param_grid= {\n",
    "        \"learning_rate\": (0.05, 0.10, 0.15),\n",
    "        \"max_depth\": [ 3, 4, 5, 6, 8],\n",
    "        \"min_child_weight\": [ 1, 3, 5, 7],\n",
    "        \"gamma\":[ 0.0, 0.1, 0.2],\n",
    "        \"colsample_bytree\":[ 0.3, 0.4],\n",
    "    }\n",
    "\n",
    "\n",
    "    xgb_grid = GridSearchCV(estimator=MultiOutputRegressor(xgb.XGBRegressor()),param_grid=xgb_param_grid,cv=3, scoring='neg_mean_squared_error', verbose=0, n_jobs=-1)\n",
    "    xgb_grid.fit(scaled_X_train,y_train)\n",
    "    print(xgb_grid.best_params_)\n",
    "    run.log_parameter(name=\"learning_rate\",value=xgb_grid.best_params_['learning_rate'])\n",
    "    run.log_parameter(name=\"max_depth\",value=xgb_grid.best_params_['max_depth'])\n",
    "    run.log_parameter(name=\"min_child_weight\",value=xgb_grid.best_params_['min_child_weight'])\n",
    "    run.log_parameter(name=\"gamma\",value=xgb_grid.best_params_['gamma'])\n",
    "    run.log_parameter(name=\"colsample_bytree\",value=xgb_grid.best_params_['colsample_bytree'])\n",
    "    \n",
    "    #evaluar con datos de train\n",
    "    xgb_grid_pred=xgb_grid.predict(scaled_X_train)\n",
    "    xgb_mae=mean_absolute_error(y_train,xgb_grid_pred)\n",
    "    xgb_mse=np.sqrt(mean_squared_error(y_train,xgb_grid_pred))\n",
    "    xgb_r2=r2_score(y_train,xgb_grid_pred)\n",
    "    \n",
    "    run.log_metric(name=\"train:mae\",value=xgb_mae)\n",
    "    run.log_metric(name=\"train:mse\",value=xgb_mse)\n",
    "    run.log_metric(name=\"train:r2\",value=xgb_r2)\n",
    "    #verificacion con datos de test\n",
    "    xgb_grid_pred=xgb_grid.predict(scaled_X_test)\n",
    "    xgb_mae=mean_absolute_error(y_test,xgb_grid_pred)\n",
    "    xgb_mse=np.sqrt(mean_squared_error(y_test,xgb_grid_pred))\n",
    "    xgb_r2=r2_score(y_test,xgb_grid_pred)\n",
    "    \n",
    "    run.log_metric(name=\"test:mae\",value=xgb_mae)\n",
    "    run.log_metric(name=\"test:mse\",value=xgb_mse)\n",
    "    run.log_metric(name=\"test:r2\",value=xgb_r2)\n"
   ]
  },
  {
   "cell_type": "markdown",
   "id": "2b23890d",
   "metadata": {},
   "source": [
    "# Linear Support Vector Machine"
   ]
  },
  {
   "cell_type": "markdown",
   "id": "c612fab0",
   "metadata": {},
   "source": [
    "# Entrenamiento"
   ]
  },
  {
   "cell_type": "code",
   "execution_count": null,
   "id": "a0b144da",
   "metadata": {},
   "outputs": [],
   "source": [
    "run_name = \"linearsvm-regression-\" + strftime(\"%Y-%m-%d-%H-%M-%S\", gmtime())\n",
    "with experiments.Run(experiment_name,run_name=run_name) as run :\n",
    "    #entrenamiento\n",
    "    svm_regression = LinearSVR()\n",
    "    svm_regression.fit(scaled_X_train, y_train)\n",
    "    print(svm_regression.get_params())\n",
    "    #verificacion con datos de train\n",
    "    svm_regression_y_pred=svm_regression.predict(scaled_X_train)\n",
    "    svm_mae=mean_absolute_error(y_train,svm_regression_y_pred)\n",
    "    svm_mse=np.sqrt(mean_squared_error(y_train,svm_regression_y_pred))\n",
    "    svm_r2=r2_score(y_train,svm_regression_y_pred)\n",
    "    \n",
    "    run.log_metric(name=\"train:mae\",value=svm_mae)\n",
    "    run.log_metric(name=\"train:mse\",value=svm_mse) \n",
    "    run.log_metric(name=\"train:r2\",value=svm_r2)\n",
    "    #verificacion con datos de test\n",
    "    svm_regression_y_pred=svm_regression.predict(scaled_X_test)\n",
    "    svm_mae=mean_absolute_error(y_test,svm_regression_y_pred)\n",
    "    svm_mse=np.sqrt(mean_squared_error(y_test,svm_regression_y_pred))\n",
    "    svm_r2=r2_score(y_test,svm_regression_y_pred)\n",
    "    \n",
    "    run.log_metric(name=\"test:mae\",value=svm_mae)\n",
    "    run.log_metric(name=\"test:mse\",value=svm_mse)\n",
    "    run.log_metric(name=\"test:r2\",value=svm_r2)"
   ]
  },
  {
   "cell_type": "markdown",
   "id": "92e28614",
   "metadata": {},
   "source": [
    "# Grid Search"
   ]
  },
  {
   "cell_type": "code",
   "execution_count": null,
   "id": "c88a27d2",
   "metadata": {},
   "outputs": [],
   "source": [
    "run_name = \"grid-linearsvm-regression-\" + strftime(\"%Y-%m-%d-%H-%M-%S\", gmtime())\n",
    "with experiments.Run(experiment_name,run_name=run_name) as run :\n",
    "    svm_param_grid= {\n",
    "    'C':[0.001,0.01,0.1,0.5,1],\n",
    "    'epsilon':[0,0.01,0.1,0.5,1,2]  \n",
    "    }\n",
    "\n",
    "    svm_grid = GridSearchCV(estimator=LinearSVR(),param_grid=svm_param_grid)\n",
    "    svm_grid.fit(scaled_X_train,y_train)\n",
    "    print(svm_grid.best_params_)\n",
    "    run.log_parameter(name=\"C\",value=svm_grid.best_params_['C'])\n",
    "    run.log_parameter(name=\"epsilon\",value=svm_grid.best_params_['epsilon'])\n",
    "    #evaluar con datos de train\n",
    "    svm_grid_preds = svm_grid.predict(scaled_X_train)\n",
    "    svm_mae=mean_absolute_error(y_train,svm_grid_preds)\n",
    "    svm_mse=np.sqrt(mean_squared_error(y_train,svm_grid_preds))\n",
    "    svm_r2=r2_score(y_train,svm_grid_preds)\n",
    "    \n",
    "    run.log_metric(name=\"train:mae\",value=svm_mae)\n",
    "    run.log_metric(name=\"train:mse\",value=svm_mse)\n",
    "    run.log_metric(name=\"train:r2\",value=svm_r2)\n",
    "    #evaluar con datos de test\n",
    "    svm_grid_preds = svm_grid.predict(scaled_X_test)\n",
    "    svm_mae=mean_absolute_error(y_test,svm_grid_preds)\n",
    "    svm_mse=np.sqrt(mean_squared_error(y_test,svm_grid_preds))\n",
    "    svm_r2=r2_score(y_test,svm_grid_preds)\n",
    "    \n",
    "    run.log_metric(name=\"test:mae\",value=svm_mae)\n",
    "    run.log_metric(name=\"test:mse\",value=svm_mse)\n",
    "    run.log_metric(name=\"test:r2\",value=svm_r2)"
   ]
  },
  {
   "cell_type": "markdown",
   "id": "48750f97",
   "metadata": {},
   "source": [
    "# Support Vector Machine"
   ]
  },
  {
   "cell_type": "markdown",
   "id": "a503d08c",
   "metadata": {},
   "source": [
    "# Entrenamiento"
   ]
  },
  {
   "cell_type": "code",
   "execution_count": null,
   "id": "83ba565c",
   "metadata": {},
   "outputs": [],
   "source": [
    "run_name = \"svm-regression-\" + strftime(\"%Y-%m-%d-%H-%M-%S\", gmtime())\n",
    "with experiments.Run(experiment_name,run_name=run_name) as run :\n",
    "    #entrenamiento\n",
    "    svm_regression = SVR()\n",
    "    svm_regression.fit(scaled_X_train, y_train)\n",
    "    print(svm_regression.get_params())\n",
    "    #verificacion con datos de train\n",
    "    svm_regression_y_pred=svm_regression.predict(scaled_X_train)\n",
    "    svm_mae=mean_absolute_error(y_train,svm_regression_y_pred)\n",
    "    svm_mse=np.sqrt(mean_squared_error(y_train,svm_regression_y_pred))\n",
    "    svm_r2=r2_score(y_train,svm_regression_y_pred)\n",
    "    \n",
    "    run.log_metric(name=\"train:mae\",value=svm_mae)\n",
    "    run.log_metric(name=\"train:mse\",value=svm_mse) \n",
    "    run.log_metric(name=\"train:r2\",value=svm_r2)\n",
    "    #verificacion con datos de test\n",
    "    svm_regression_y_pred=svm_regression.predict(scaled_X_test)\n",
    "    svm_mae=mean_absolute_error(y_test,svm_regression_y_pred)\n",
    "    svm_mse=np.sqrt(mean_squared_error(y_test,svm_regression_y_pred))\n",
    "    svm_r2=r2_score(y_test,svm_regression_y_pred)\n",
    "    \n",
    "    run.log_metric(name=\"test:mae\",value=svm_mae)\n",
    "    run.log_metric(name=\"test:mse\",value=svm_mse)\n",
    "    run.log_metric(name=\"test:r2\",value=svm_r2)"
   ]
  },
  {
   "cell_type": "markdown",
   "id": "b7447fc6",
   "metadata": {},
   "source": [
    "# Grid Search"
   ]
  },
  {
   "cell_type": "code",
   "execution_count": null,
   "id": "5d569c11",
   "metadata": {},
   "outputs": [],
   "source": [
    "run_name = \"grid-svm-regression-\" + strftime(\"%Y-%m-%d-%H-%M-%S\", gmtime())\n",
    "with experiments.Run(experiment_name,run_name=run_name) as run :\n",
    "    svm_param_grid= {\n",
    "    'C':[0.001,0.01,0.1,0.5,1],\n",
    "    'kernel':['linear','rbf','poly'],  \n",
    "    'gamma':['scale','auto'],\n",
    "    'degree':[2,3,4],  \n",
    "    'epsilon':[0,0.01,0.1,0.5,1,2]  \n",
    "    }\n",
    "\n",
    "    svm_grid = GridSearchCV(estimator=SVR(),param_grid=svm_param_grid)\n",
    "    svm_grid.fit(scaled_X_train,y_train)\n",
    "    print(svm_grid.best_params_)\n",
    "    run.log_parameter(name=\"C\",value=svm_grid.best_params_['C'])\n",
    "    run.log_parameter(name=\"kernel\",value=svm_grid.best_params_['kernel'])\n",
    "    run.log_parameter(name=\"gamma\",value=svm_grid.best_params_['gamma'])\n",
    "    run.log_parameter(name=\"degree\",value=svm_grid.best_params_['degree'])\n",
    "    run.log_parameter(name=\"epsilon\",value=svm_grid.best_params_['epsilon'])\n",
    "    #evaluar con datos de train\n",
    "    svm_grid_preds = svm_grid.predict(scaled_X_train)\n",
    "    svm_mae=mean_absolute_error(y_train,svm_grid_preds)\n",
    "    svm_mse=np.sqrt(mean_squared_error(y_train,svm_grid_preds))\n",
    "    svm_r2=r2_score(y_train,svm_grid_preds)\n",
    "    \n",
    "    run.log_metric(name=\"train:mae\",value=svm_mae)\n",
    "    run.log_metric(name=\"train:mse\",value=svm_mse)\n",
    "    run.log_metric(name=\"train:r2\",value=svm_r2)\n",
    "    #evaluar con datos de test\n",
    "    svm_grid_preds = svm_grid.predict(scaled_X_test)\n",
    "    svm_mae=mean_absolute_error(y_test,svm_grid_preds)\n",
    "    svm_mse=np.sqrt(mean_squared_error(y_test,svm_grid_preds))\n",
    "    svm_r2=r2_score(y_test,svm_grid_preds)\n",
    "    \n",
    "    run.log_metric(name=\"test:mae\",value=svm_mae)\n",
    "    run.log_metric(name=\"test:mse\",value=svm_mse)\n",
    "    run.log_metric(name=\"test:r2\",value=svm_r2)"
   ]
  },
  {
   "cell_type": "markdown",
   "id": "d352c332",
   "metadata": {},
   "source": [
    "# Artificial Neural Network"
   ]
  },
  {
   "cell_type": "markdown",
   "id": "624c8ac5",
   "metadata": {},
   "source": [
    "# Entrenamiento"
   ]
  },
  {
   "cell_type": "code",
   "execution_count": null,
   "id": "2ab68461",
   "metadata": {},
   "outputs": [],
   "source": [
    "run_name = \"ann-regression-\" + strftime(\"%Y-%m-%d-%H-%M-%S\", gmtime())\n",
    "with experiments.Run(experiment_name,run_name=run_name) as run :\n",
    "    #entrenamiento\n",
    "    ann_regression = neural_network.MLPRegressor(max_iter=5000,verbose=False)\n",
    "    ann_regression.fit(scaled_X_train, y_train)\n",
    "    print(ann_regression.get_params())\n",
    "    \n",
    "    #verificacion con datos de train\n",
    "    ann_regression_y_pred=ann_regression.predict(scaled_X_train)\n",
    "    ann_mae=mean_absolute_error(y_train,ann_regression_y_pred)\n",
    "    ann_mse=np.sqrt(mean_squared_error(y_train,ann_regression_y_pred))\n",
    "    ann_r2=r2_score(y_train,ann_regression_y_pred)\n",
    "    \n",
    "    run.log_metric(name=\"train:mae\",value=ann_mae)\n",
    "    run.log_metric(name=\"train:mse\",value=ann_mse) \n",
    "    run.log_metric(name=\"train:r2\",value=ann_r2) \n",
    "    #verificacion con datos de test\n",
    "    ann_regression_y_pred=ann_regression.predict(scaled_X_test)\n",
    "    ann_mae=mean_absolute_error(y_test,ann_regression_y_pred)\n",
    "    ann_mse=np.sqrt(mean_squared_error(y_test,ann_regression_y_pred))\n",
    "    ann_r2=r2_score(y_test,ann_regression_y_pred)\n",
    "    \n",
    "    run.log_metric(name=\"test:mae\",value=ann_mae)\n",
    "    run.log_metric(name=\"test:mse\",value=ann_mse)\n",
    "    run.log_metric(name=\"test:r2\",value=ann_r2)"
   ]
  },
  {
   "cell_type": "markdown",
   "id": "6a66eb11",
   "metadata": {},
   "source": [
    "# Grid Search"
   ]
  }
 ],
 "metadata": {
  "kernelspec": {
   "display_name": "Python 3 (ipykernel)",
   "language": "python",
   "name": "python3"
  },
  "language_info": {
   "codemirror_mode": {
    "name": "ipython",
    "version": 3
   },
   "file_extension": ".py",
   "mimetype": "text/x-python",
   "name": "python",
   "nbconvert_exporter": "python",
   "pygments_lexer": "ipython3",
   "version": "3.9.16"
  }
 },
 "nbformat": 4,
 "nbformat_minor": 5
}
